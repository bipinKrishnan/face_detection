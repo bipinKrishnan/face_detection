{
 "cells": [
  {
   "cell_type": "code",
   "execution_count": 1,
   "metadata": {},
   "outputs": [],
   "source": [
    "import numpy as np\n",
    "import cv2"
   ]
  },
  {
   "cell_type": "code",
   "execution_count": 2,
   "metadata": {},
   "outputs": [],
   "source": [
    "#capture video from webcam\n",
    "cap = cv2.VideoCapture(0)\n",
    "\n",
    "while True:\n",
    "    ret, frame = cap.read()\n",
    "    gray = cv2.cvtColor(frame, cv2.COLOR_BGR2GRAY)\n",
    "    \n",
    "    #haar cascade complete path for face detection\n",
    "    har_cascade = cv2.CascadeClassifier('/home/abhigith/anaconda3/lib/python3.7/site-packages/cv2/data/haarcascade_frontalface_default.xml')\n",
    "    #detect faces\n",
    "    faces = har_cascade.detectMultiScale(gray, 1.3, 5)\n",
    "\n",
    "    # Draw rectangle around the faces\n",
    "    #x, y, w, h are coordinates of detected faces\n",
    "    for (x, y, w, h) in faces:\n",
    "        #debugging - print(x, y, w, h)\n",
    "        cv2.rectangle(gray, (x, y), (x+w, y+h), (255, 0, 0), 5)\n",
    "    \n",
    "    #display each frame from video\n",
    "    cv2.imshow('Image', gray)\n",
    "    \n",
    "    #kill switch 'q' for closing the window\n",
    "    if cv2.waitKey(1) & 0xFF == ord('q'):\n",
    "        break\n",
    "        \n",
    "#release capturing\n",
    "cap.release()\n",
    "cv2.destroyAllWindows()\n",
    "        "
   ]
  },
  {
   "cell_type": "code",
   "execution_count": 11,
   "metadata": {},
   "outputs": [],
   "source": []
  },
  {
   "cell_type": "code",
   "execution_count": 12,
   "metadata": {},
   "outputs": [],
   "source": []
  },
  {
   "cell_type": "code",
   "execution_count": null,
   "metadata": {},
   "outputs": [],
   "source": []
  }
 ],
 "metadata": {
  "kernelspec": {
   "display_name": "Python 3",
   "language": "python",
   "name": "python3"
  },
  "language_info": {
   "codemirror_mode": {
    "name": "ipython",
    "version": 3
   },
   "file_extension": ".py",
   "mimetype": "text/x-python",
   "name": "python",
   "nbconvert_exporter": "python",
   "pygments_lexer": "ipython3",
   "version": "3.7.1"
  }
 },
 "nbformat": 4,
 "nbformat_minor": 2
}
